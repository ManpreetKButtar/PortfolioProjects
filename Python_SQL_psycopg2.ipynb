{
 "cells": [
  {
   "cell_type": "markdown",
   "id": "d45d4a31",
   "metadata": {},
   "source": [
    "#### ETL"
   ]
  },
  {
   "cell_type": "markdown",
   "id": "3e7456ba",
   "metadata": {},
   "source": [
    "Install psycopg2 to run SQL with python\n",
    "#!pip install psycopg2"
   ]
  },
  {
   "cell_type": "code",
   "execution_count": 1,
   "id": "006b6cab",
   "metadata": {
    "scrolled": true
   },
   "outputs": [
    {
     "name": "stdout",
     "output_type": "stream",
     "text": [
      "Name: psycopg2\n",
      "Version: 2.9.9\n",
      "Summary: psycopg2 - Python-PostgreSQL Database Adapter\n",
      "Home-page: https://psycopg.org/\n",
      "Author: Federico Di Gregorio\n",
      "Author-email: fog@initd.org\n",
      "License: LGPL with exceptions\n",
      "Location: /Users/Manpreet/anaconda3/lib/python3.10/site-packages\n",
      "Requires: \n",
      "Required-by: \n",
      "Note: you may need to restart the kernel to use updated packages.\n"
     ]
    }
   ],
   "source": [
    "pip show psycopg2"
   ]
  },
  {
   "cell_type": "markdown",
   "id": "315c7a34",
   "metadata": {},
   "source": [
    "For connection provide \n",
    "- username\n",
    "- password\n",
    "- host\n",
    "- Dbname\n",
    "\n",
    "Create cursor to run the SQL commands"
   ]
  },
  {
   "cell_type": "code",
   "execution_count": 9,
   "id": "3d67093e",
   "metadata": {},
   "outputs": [],
   "source": [
    "import psycopg2\n",
    "\n",
    "def execute_sql(query, params=None):\n",
    "    \"\"\"\n",
    "    Execute SQL query with optional parameters and return fetched rows.\n",
    "    \"\"\"\n",
    "    conn = psycopg2.connect(database=\"fifa19\", user=\"postgres\", password=\"123456\", host=\"localhost\")\n",
    "    cur = conn.cursor()\n",
    "    \n",
    "    try:\n",
    "        if params is None:\n",
    "            cur.execute(query)\n",
    "        else:\n",
    "            cur.execute(query, params)\n",
    "        \n",
    "        rows = cur.fetchall()  # Fetch all rows from the result set\n",
    "        return rows\n",
    "\n",
    "    except psycopg2.Error as e:\n",
    "        print(\"Error:\", e)\n",
    "        conn.rollback()  # Rollback the transaction if an error occurs\n",
    "        return None\n",
    "\n",
    "    finally:\n",
    "        cur.close()  # Close the cursor\n",
    "        conn.close()  # Close the connection"
   ]
  },
  {
   "cell_type": "code",
   "execution_count": 12,
   "id": "8958164c",
   "metadata": {},
   "outputs": [
    {
     "name": "stdout",
     "output_type": "stream",
     "text": [
      "(158023, 'L Messi', 31, 'argentina', 94, 94, 'FC Barcelona', 110500000, 565000, 'Left', 10, datetime.date(2004, 7, 1), \"5'7\", 159, 75)\n",
      "(20801, 'Cristiano Ronaldo', 33, 'Portugal', 94, 94, 'Juventus', 77000000, 405000, 'Right', 7, datetime.date(2018, 7, 10), \"6'2\", 183, 85)\n",
      "(190871, 'Neymar Jr', 26, 'Brazil', 92, 93, 'Paris Saint-Germain', 118500000, 290000, 'Right', 10, datetime.date(2017, 8, 3), \"5'9\", 150, 81)\n",
      "(193080, 'De Gea', 27, 'Spain', 91, 93, 'Manchester United', 72000000, 260000, 'Right', 1, datetime.date(2011, 7, 1), \"6'4\", 168, 40)\n",
      "(192985, 'K De Bruyne', 27, 'Belgium', 91, 92, 'Manchester City', 102000000, 355000, 'Right', 7, datetime.date(2015, 8, 30), \"5'11\", 154, 79)\n"
     ]
    }
   ],
   "source": [
    "# Execute SQL commands\n",
    "players = execute_sql(\"SELECT * FROM players limit 5\")\n",
    "if players is not None:\n",
    "    for row in players:\n",
    "        print(row)"
   ]
  },
  {
   "cell_type": "code",
   "execution_count": 13,
   "id": "a652d21e",
   "metadata": {},
   "outputs": [
    {
     "name": "stdout",
     "output_type": "stream",
     "text": [
      "('persons',)\n",
      "('players',)\n",
      "('email',)\n",
      "('email1',)\n"
     ]
    }
   ],
   "source": [
    "# Execute SQL commands\n",
    "table = execute_sql(\"SELECT table_name FROM information_schema.tables WHERE table_schema='public'\")\n",
    "if table is not None:\n",
    "    for row in table:\n",
    "        print(row)"
   ]
  },
  {
   "cell_type": "markdown",
   "id": "baab977c",
   "metadata": {},
   "source": [
    "#### Create table"
   ]
  },
  {
   "cell_type": "code",
   "execution_count": 18,
   "id": "0eabe8b9",
   "metadata": {},
   "outputs": [],
   "source": [
    "# Connect to the database and create cursor\n",
    "conn = psycopg2.connect(database=\"fifa19\", user=\"postgres\", password=\"123456\", host=\"localhost\")\n",
    "cur = conn.cursor()\n",
    "\n",
    "    \n",
    "try:\n",
    "    # Define the SQL statement for creating a table\n",
    "    create_table_query = '''\n",
    "        CREATE TABLE customers (\n",
    "            first_name VARCHAR(100),\n",
    "            last_name VARCHAR(100),\n",
    "            dob DATE,\n",
    "            email TEXT\n",
    "        )\n",
    "    '''\n",
    "\n",
    "    # Execute the SQL statement to create the table\n",
    "    cur.execute(create_table_query)\n",
    "\n",
    "    # Commit the transaction\n",
    "    conn.commit()\n",
    "\n",
    "except psycopg2.Error as e:\n",
    "    print(\"Error creating table:\", e)\n",
    "    conn.rollback()\n",
    "\n",
    "# Close the cursor\n",
    "cur.close()  # Close the cursor\n",
    "conn.close()  # Close the connection\n"
   ]
  },
  {
   "cell_type": "markdown",
   "id": "b84db527",
   "metadata": {},
   "source": [
    "### Insert data"
   ]
  },
  {
   "cell_type": "code",
   "execution_count": 19,
   "id": "cc440efd",
   "metadata": {},
   "outputs": [],
   "source": [
    "# Connect to the database and create cursor\n",
    "conn = psycopg2.connect(database=\"fifa19\", user=\"postgres\", password=\"123456\", host=\"localhost\")\n",
    "cur = conn.cursor()\n",
    "\n",
    "try:\n",
    "    # Define the SQL statement for creating a table\n",
    "    insert_data_query = '''\n",
    "        INSERT INTO customers (first_name,last_name,dob,email)\n",
    "        values ('Henry','Lewis','09-08-2012','henry.lewis@gmail.com');\n",
    "    '''\n",
    "\n",
    "    # Execute the SQL statement to create the table\n",
    "    cur.execute(insert_data_query)\n",
    "\n",
    "    # Commit the transaction\n",
    "    conn.commit()\n",
    "\n",
    "except psycopg2.Error as e:\n",
    "    print(\"Error creating table:\", e)\n",
    "    conn.rollback()\n",
    "\n",
    "# Close the cursor\n",
    "cur.close()  # Close the cursor\n",
    "conn.close()  # Close the connection"
   ]
  },
  {
   "cell_type": "code",
   "execution_count": 20,
   "id": "a5e95dd3",
   "metadata": {},
   "outputs": [
    {
     "name": "stdout",
     "output_type": "stream",
     "text": [
      "('Henry', 'Lewis', datetime.date(2012, 9, 8), 'henry.lewis@gmail.com')\n"
     ]
    }
   ],
   "source": [
    "# Execute SQL commands\n",
    "cust = execute_sql(\"Select * from customers\")\n",
    "if cust is not None:\n",
    "    for row in cust:\n",
    "        print(row)\n"
   ]
  },
  {
   "cell_type": "markdown",
   "id": "1635c7d6",
   "metadata": {},
   "source": [
    "### Insert data from csv"
   ]
  },
  {
   "cell_type": "code",
   "execution_count": 24,
   "id": "650229af",
   "metadata": {},
   "outputs": [],
   "source": [
    "import csv\n",
    "from datetime import datetime \n",
    "\n",
    "# Connect to the database and create cursor\n",
    "conn = psycopg2.connect(database=\"fifa19\", user=\"postgres\", password=\"123456\", host=\"localhost\")\n",
    "cur = conn.cursor()\n",
    "\n",
    "with open('/Users/Manpreet/Documents/DataAnalysis/SQL/email.csv', 'r') as file:\n",
    "    reader = csv.reader(file)\n",
    "    next(reader)  # Skip the header row if exists\n",
    "    for row in reader:\n",
    "        # Execute INSERT statement to add data to the database\n",
    "        # Parse date and handle invalid formats\n",
    "        try:\n",
    "            dob = datetime.strptime(row[2], '%Y-%m-%d').date()\n",
    "        except ValueError:\n",
    "            print(\"Invalid date format in row:\", row)\n",
    "            continue\n",
    "        try:\n",
    "            cur.execute(\n",
    "                \"INSERT INTO customers (first_name, last_name, dob, email) VALUES (%s, %s, %s, %s)\",\n",
    "                (row[0], row[1], dob, row[3])\n",
    "            )\n",
    "        except psycopg2.Error as e:\n",
    "            print(\"Error inserting data:\", e)\n",
    "            continue\n",
    "\n",
    "# Commit the transaction\n",
    "conn.commit()\n",
    "\n",
    "\n",
    "# Close the cursor\n",
    "cur.close()  # Close the cursor\n",
    "conn.close()  # Close the connection"
   ]
  },
  {
   "cell_type": "code",
   "execution_count": 25,
   "id": "a59d8c4b",
   "metadata": {
    "scrolled": true
   },
   "outputs": [
    {
     "name": "stdout",
     "output_type": "stream",
     "text": [
      "('Henry', 'Lewis', datetime.date(2012, 9, 8), 'henry.lewis@gmail.com')\n",
      "('David', 'farari', datetime.date(1989, 2, 12), 'David.farari@gmail.com')\n",
      "('kisrten', 'christian', datetime.date(1980, 3, 13), 'kisrten.christian@gmail.com')\n",
      "('ronald', 'trump', datetime.date(1970, 7, 24), 'ronald.trump@gmail.com')\n",
      "('Ashley', 'quigg', datetime.date(1999, 6, 27), 'Ashley.quigg@gmail.com')\n",
      "('megan', 'morrison', datetime.date(1979, 4, 12), 'megan.morrison@gmail.com')\n"
     ]
    }
   ],
   "source": [
    "# Execute SQL commands\n",
    "cust = execute_sql(\"Select * from customers\")\n",
    "if cust is not None:\n",
    "    for row in cust:\n",
    "        print(row)\n"
   ]
  },
  {
   "cell_type": "markdown",
   "id": "3f8a378a",
   "metadata": {},
   "source": [
    "### Insert multiple rows "
   ]
  },
  {
   "cell_type": "code",
   "execution_count": 26,
   "id": "e882d4d1",
   "metadata": {},
   "outputs": [],
   "source": [
    "data = [('Devid','morrison','12-12-2002','abc.def@gmail.com'),\n",
    "        ('Peter','quigg','12-12-2002','peter@gmail.com'),\n",
    "        ('Aliff','blasphet','12-12-2002','aliff@gmail.com'),\n",
    "        ('Mukesh','Sharma','12-12-2002','mukesh.sharma@gmail.com')]"
   ]
  },
  {
   "cell_type": "code",
   "execution_count": 27,
   "id": "f683f8f5",
   "metadata": {},
   "outputs": [],
   "source": [
    "query = \"insert into email values (%s, %s, %s, %s)\""
   ]
  },
  {
   "cell_type": "code",
   "execution_count": 29,
   "id": "56d19e15",
   "metadata": {},
   "outputs": [],
   "source": [
    "# Connect to the database and create cursor\n",
    "conn = psycopg2.connect(database=\"fifa19\", user=\"postgres\", password=\"123456\", host=\"localhost\")\n",
    "cur = conn.cursor()\n",
    "\n",
    "#Insert multiple rows \n",
    "cur.executemany(query,data)\n",
    "conn.commit()\n",
    "\n",
    "# Close the cursor\n",
    "cur.close()  # Close the cursor\n",
    "conn.close()  # Close the connection"
   ]
  },
  {
   "cell_type": "code",
   "execution_count": 30,
   "id": "cad9b187",
   "metadata": {},
   "outputs": [
    {
     "name": "stdout",
     "output_type": "stream",
     "text": [
      "('Henry', 'Lewis', datetime.date(2012, 9, 8), 'henry.lewis@gmail.com')\n",
      "('David', 'farari', datetime.date(1989, 2, 12), 'David.farari@gmail.com')\n",
      "('kisrten', 'christian', datetime.date(1980, 3, 13), 'kisrten.christian@gmail.com')\n",
      "('ronald', 'trump', datetime.date(1970, 7, 24), 'ronald.trump@gmail.com')\n",
      "('Ashley', 'quigg', datetime.date(1999, 6, 27), 'Ashley.quigg@gmail.com')\n",
      "('megan', 'morrison', datetime.date(1979, 4, 12), 'megan.morrison@gmail.com')\n"
     ]
    }
   ],
   "source": [
    "# Execute SQL commands\n",
    "cust = execute_sql(\"Select * from customers\")\n",
    "if cust is not None:\n",
    "    for row in cust:\n",
    "        print(row)"
   ]
  },
  {
   "cell_type": "code",
   "execution_count": null,
   "id": "1646fc72",
   "metadata": {},
   "outputs": [],
   "source": []
  }
 ],
 "metadata": {
  "kernelspec": {
   "display_name": "Python 3 (ipykernel)",
   "language": "python",
   "name": "python3"
  },
  "language_info": {
   "codemirror_mode": {
    "name": "ipython",
    "version": 3
   },
   "file_extension": ".py",
   "mimetype": "text/x-python",
   "name": "python",
   "nbconvert_exporter": "python",
   "pygments_lexer": "ipython3",
   "version": "3.10.9"
  }
 },
 "nbformat": 4,
 "nbformat_minor": 5
}
